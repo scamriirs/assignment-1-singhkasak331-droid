{
 "cells": [
  {
   "cell_type": "code",
   "execution_count": 4,
   "id": "2d383bb8-7dc7-42e1-b6cd-3d9eb1f43f2e",
   "metadata": {},
   "outputs": [
    {
     "name": "stdin",
     "output_type": "stream",
     "text": [
      "enter three items 1 for your list  1\n",
      "enter three items 2 for your list  2\n",
      "enter three items 3 for your list  3\n"
     ]
    },
    {
     "name": "stdout",
     "output_type": "stream",
     "text": [
      "final list  ['1', '2', '3']\n",
      "removed 2 from the cart\n",
      "updated list ['1', '3']\n"
     ]
    }
   ],
   "source": [
    "# 1. List Manipulation: Shopping Cart\n",
    "# •\tCreate an empty list called shopping_cart.\n",
    "# •\tAsk the user to input three items one by one and add each to the list.\n",
    "# •\tPrint the final list.\n",
    "# •\tThen, remove the second item and print the updated list.\n",
    "shopping_cart=[]\n",
    "# •\tAsk the user to input three items\n",
    "for i in range(3):\n",
    "    item=input(f\"enter three items {i+1} for your list \")\n",
    "    shopping_cart.append(item)\n",
    "print(\"final list \",shopping_cart)\n",
    "if len(shopping_cart)>1:\n",
    "  removed_item=shopping_cart.pop(1)\n",
    "print(f\"removed {removed_item} from the cart\")\n",
    "print(\"updated list\",shopping_cart)\n",
    "\n"
   ]
  },
  {
   "cell_type": "code",
   "execution_count": 11,
   "id": "24b3babe-6b9b-4f9b-ac9c-d57594baec0c",
   "metadata": {},
   "outputs": [
    {
     "name": "stdout",
     "output_type": "stream",
     "text": [
      "student ('john', 'Doe', 19)\n",
      "student's last name = Doe\n"
     ]
    }
   ],
   "source": [
    "# 2. Tuple Basics: Student Information\n",
    "# •\tCreate a tuple named student that contains a student's first name, last name, and age (e.g., ('John', 'Doe', 19)).\n",
    "# •\tPrint the entire tuple.\n",
    "# •\tPrint only the student's last name using indexing.\n",
    "\n",
    "student=(\"john\",\"Doe\",19)\n",
    "print(\"student\",student)\n",
    "print(\"student's last name =\",student[1])\n",
    "\n"
   ]
  },
  {
   "cell_type": "code",
   "execution_count": 16,
   "id": "29816fcf-fea0-4934-b1d7-a54c5655871a",
   "metadata": {},
   "outputs": [
    {
     "name": "stdout",
     "output_type": "stream",
     "text": [
      "phone_book= {'Alice': '5767889393', 'Ram': '9886673211', 'sita': '9764532211'}\n"
     ]
    },
    {
     "name": "stdin",
     "output_type": "stream",
     "text": [
      "enter name Ram\n"
     ]
    },
    {
     "name": "stdout",
     "output_type": "stream",
     "text": [
      "Ram phone number is 9886673211\n"
     ]
    }
   ],
   "source": [
    "# 3. Dictionary: Phone Book\n",
    "# •\tCreate an empty dictionary called phone_book.\n",
    "# •\tAdd three key-value pairs to it, where the key is a person's name and the value is their phone number.\n",
    "# •\tPrint the entire dictionary.\n",
    "# •\tAsk the user for a name and print that person's phone number. Handle the case where the name is not found.\n",
    "\n",
    "phone_book={}\n",
    "#add three key value pairs\n",
    "phone_book['Alice']='5767889393'\n",
    "phone_book['Ram']='9886673211'\n",
    "phone_book['sita']='9764532211'\n",
    "print(\"phone_book=\",phone_book)\n",
    "#ask user to enter name\n",
    "name=input(\"enter name\")\n",
    "if name in phone_book:\n",
    "    print(f\"{name} phone number is {phone_book[name]}\")\n",
    "else:\n",
    "    print(f\"no entry found for {name}\")"
   ]
  },
  {
   "cell_type": "code",
   "execution_count": 2,
   "id": "9560c473-d3c5-4440-8906-8ae6163ee452",
   "metadata": {},
   "outputs": [
    {
     "name": "stdout",
     "output_type": "stream",
     "text": [
      "movie:interception,year:2010\n",
      "movie:sita ramam,year:2018\n",
      "movie:kick,year:2015\n",
      "movie:bigil,year:2017\n",
      "movie:race3,year:2019\n"
     ]
    }
   ],
   "source": [
    "# 4. List of Tuples: Movie Collection\n",
    "# •\tCreate a list named movies where each element is a tuple. Each tuple should contain a movie title and its release year (e.g., [('Inception', 2010), ('Toy Story', 1995)]).\n",
    "# •\tAdd a new movie tuple to the list.\n",
    "# •\tLoop through the list and print each movie's title and year in a formatted string\n",
    "\n",
    "movies=[(\"interception\",2010),('sita ramam',2018),('kick',2015),('bigil',2017)]\n",
    "#add a new movie\n",
    "movies.append(('race3',2019))\n",
    "#PRINT  each movie's title and year\n",
    "for title,year in movies:\n",
    "    print(f\"movie:{title},year:{year}\")\n",
    "\n"
   ]
  },
  {
   "cell_type": "code",
   "execution_count": 12,
   "id": "d5755242-bec7-4224-8d09-289c5d66a49a",
   "metadata": {},
   "outputs": [
    {
     "name": "stdout",
     "output_type": "stream",
     "text": [
      "employee name Rohan\n",
      "employee second skill java\n"
     ]
    }
   ],
   "source": [
    "# 5. Dictionary Nesting: Employee Directory\n",
    "# •\tCreate a dictionary named employee that stores information for one employee.\n",
    "# It should have the keys: 'name', 'department', and 'skills'.\n",
    "# •\tThe value for 'skills' should be a list of programming languages the employee knows (e.g., ['Python', 'SQL']).\n",
    "# •\tPrint the employee's name and their second skill.\n",
    "\n",
    "\n",
    "\n",
    "employee={\n",
    "    'name':'Rohan',\n",
    "    'department':'engineering',\n",
    "    'skills':['python','java','project management']\n",
    "}\n",
    "print(\"employee name=\",employee['name'])\n",
    "print(\"employee second skill=\",employee['skills'][1])\n",
    "           \n",
    "    \n",
    "\n"
   ]
  },
  {
   "cell_type": "code",
   "execution_count": 2,
   "id": "bdaae6e6-b8ce-4e48-86cb-3b44310edd56",
   "metadata": {},
   "outputs": [
    {
     "name": "stdout",
     "output_type": "stream",
     "text": [
      "Names tuple: ('Alice', 'bob', 'Charlie')\n",
      "error 'tuple' object does not support item assignment\n"
     ]
    }
   ],
   "source": [
    "# 6. Converting Data Types\n",
    "# •\tCreate a list of names: names_list = ['Alice', 'Bob', 'Charlie'].\n",
    "# •\tConvert this list into a tuple.\n",
    "# •\tTry to change the first element of the new tuple to 'David'. Observe and note what happens\n",
    "name_list=['Alice','bob','Charlie']\n",
    "name_tuple=tuple(name_list)\n",
    "print(\"Names tuple:\",name_tuple)\n",
    "try:\n",
    "    name_tuple[0]='David'\n",
    "except TypeError as e:\n",
    "    print(\"error\",e)\n"
   ]
  },
  {
   "cell_type": "code",
   "execution_count": 5,
   "id": "32b2045b-1675-4bdc-addd-10e913a2534e",
   "metadata": {},
   "outputs": [
    {
     "name": "stdin",
     "output_type": "stream",
     "text": [
      "enter fruit name apples\n"
     ]
    },
    {
     "name": "stdout",
     "output_type": "stream",
     "text": [
      "yes we have apples\n",
      "Apples is available in the price list\n"
     ]
    }
   ],
   "source": [
    "# 7. Membership Testing (Lists & Dictionaries)\n",
    "# •\tCreate a list fruits = ['apple', 'banana', 'mango'].\n",
    "# •\tAsk the user to input a fruit name.\n",
    "# •\tCheck if the fruit is in the list and print an appropriate message (e.g., \"Yes, we have bananas!\").\n",
    "# •\tNow, check for the same fruit in the keys of this dictionary: prices = {'apple': 1.0, 'banana': 0.5, 'orange': 0.75}.\n",
    "fruits=['apples','banana','mango']\n",
    "fruit_input=input(\"enter fruit name\")\n",
    "if fruit_input in fruits:\n",
    "    print(f\"yes, we have {fruit_input}\")\n",
    "else:\n",
    "    print(f\"no we don't have {fruit_input}\")\n",
    "prices={'apples':1.0,'banana':0.5,'orange':0.75}\n",
    "if fruit_input in prices:\n",
    "    print(f\"{fruit_input.capitalize() } is available in the price list\")\n",
    "else:\n",
    "    print(f\"no ,{fruit_input.capitalize()} is not in the price list\")"
   ]
  },
  {
   "cell_type": "code",
   "execution_count": 7,
   "id": "10e5bad0-19b8-4278-81b9-31d9ebdbaa91",
   "metadata": {},
   "outputs": [
    {
     "name": "stdout",
     "output_type": "stream",
     "text": [
      "average score ofAlice:84.33333333333333\n"
     ]
    }
   ],
   "source": [
    "# 8. Combining Lists and Dictionaries: Gradebook\n",
    "# • Create a dictionary called grades where the key is a student's name and the value is a list\n",
    "# of their test scores (e.g., {'Alice': [85, 90, 78], 'Bob': [92, 88, 95]}).\n",
    "# • Calculate and print the average test score for a specific student (e.g., Alice). sum(list)/len(list)\n",
    "grades={'Alice':[85,90,78],'Bob':[92,88,95]}\n",
    "student='Alice'\n",
    "scores=grades[student]\n",
    "Average=sum(scores)/len(scores)\n",
    "print(f\"average score of {student}:{Average}\")"
   ]
  },
  {
   "cell_type": "code",
   "execution_count": 11,
   "id": "745f12cd-0ee6-460a-9ceb-0646a973232a",
   "metadata": {},
   "outputs": [
    {
     "name": "stdout",
     "output_type": "stream",
     "text": [
      "x: 5\n",
      "y: -3\n",
      "distance 5.830951894845301\n"
     ]
    }
   ],
   "source": [
    "# 9. Tuple Unpacking: Coordinates\n",
    "# •\tCreate a tuple called point that represents a 2D coordinate (e.g., (5, -3)).\n",
    "# •\tUse tuple unpacking to assign the values to two variables, x and y.\n",
    "# •\tPrint the values of x and y and then calculate the distance from the origin (0, 0)\n",
    "#using the formula: (x**2 + y**2)**0.5.\n",
    "point=(5,-3)\n",
    "x,y=point\n",
    "print(\"x:\",x)\n",
    "print(\"y:\",y)\n",
    "distance=(x**2+y**2)**0.5\n",
    "print('distance',distance)\n"
   ]
  },
  {
   "cell_type": "code",
   "execution_count": 14,
   "id": "e2a74dea-3d41-487f-9577-9f4b5836705c",
   "metadata": {},
   "outputs": [
    {
     "name": "stdin",
     "output_type": "stream",
     "text": [
      "enter your first item samosha\n",
      "enter your second item jalebi\n"
     ]
    },
    {
     "name": "stdout",
     "output_type": "stream",
     "text": [
      "total bill amount 46\n"
     ]
    }
   ],
   "source": [
    "# 10. Comprehensive Practice: Restaurant Order\n",
    "# * Create a dictionary called menu where the keys are item names and the values are their prices.\n",
    "# * Create an empty list called order.\n",
    "# * Simulate a customer ordering by asking them to input two item names from the menu.\n",
    "#   Add each item to the order list.\n",
    "# * Calculate the total cost of the order by looking up each item in the order list within \n",
    "#   the menu dictionary and summing their prices.\n",
    "# * Print the total bill amount.\n",
    "\n",
    "menu={\"samosha\":23,\"jalebi\":23,\"rasmalai\":30,\"gulabjamun\":40,\"coffee\":50}\n",
    "order=[]\n",
    "item1=input(\"enter your first item\").lower()\n",
    "item2=input(\"enter your second item\").lower()\n",
    "order.append(item1)\n",
    "order.append(item2)\n",
    "total=0\n",
    "for item in order:\n",
    "    if item in menu:\n",
    "        total+=menu[item]\n",
    "    else:\n",
    "        print(f\"sorrry,{item }is not in the list\")\n",
    "print(\"total bill amount\",total)\n",
    "\n"
   ]
  }
 ],
 "metadata": {
  "kernelspec": {
   "display_name": "Python 3 (ipykernel)",
   "language": "python",
   "name": "python3"
  },
  "language_info": {
   "codemirror_mode": {
    "name": "ipython",
    "version": 3
   },
   "file_extension": ".py",
   "mimetype": "text/x-python",
   "name": "python",
   "nbconvert_exporter": "python",
   "pygments_lexer": "ipython3",
   "version": "3.13.6"
  }
 },
 "nbformat": 4,
 "nbformat_minor": 5
}
