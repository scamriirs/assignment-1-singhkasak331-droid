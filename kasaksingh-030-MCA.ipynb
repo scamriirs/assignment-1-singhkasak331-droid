{
 "cells": [
  {
   "cell_type": "code",
   "execution_count": 4,
   "id": "b90a7163-d93b-45c3-9e9a-f6a6edbe6edf",
   "metadata": {},
   "outputs": [
    {
     "name": "stdout",
     "output_type": "stream",
     "text": [
      "first element is large\n"
     ]
    }
   ],
   "source": [
    "# 1. Basic If-Else with List Element\n",
    "# You have a list numbers = [10, 20, 30, 40].\n",
    "# Write a program that checks if the first element of the list is greater than 25. \n",
    "# Print \"First element is large\" if it is, and \"First element is small\" if it isn't.\n",
    "\n",
    "number = [10, 20, 30, 40]\n",
    "if number[0] > 25:\n",
    "    print(\"first element is large\")\n",
    "else:\n",
    "    print(\"first element is small\")\n"
   ]
  },
  {
   "cell_type": "code",
   "execution_count": 5,
   "id": "5ee1c51c-eac0-4c55-bc13-ca5eccf51770",
   "metadata": {},
   "outputs": [
    {
     "name": "stdout",
     "output_type": "stream",
     "text": [
      "['Fail', 'Pass', 'Pass', 'Pass', 'Pass', 'Fail']\n"
     ]
    }
   ],
   "source": [
    "# 2. Modify List Based on Condition\n",
    "# Given a list scores = [45, 67, 89, 92, 54, 31],\n",
    "# write a program that creates a new list. For each score in the original list, \n",
    "# # if the score is greater than or equal to 50, add \"Pass\" to the new list. If it's less than 50, add \"Fail\".\n",
    "\n",
    "scores = [45, 67, 89, 92, 54, 31]\n",
    "result = []\n",
    "for score in scores:\n",
    "    if score >= 50:\n",
    "        result.append(\"Pass\")\n",
    "    else:\n",
    "        result.append(\"Fail\")\n",
    "print(result)\n"
   ]
  },
  {
   "cell_type": "code",
   "execution_count": 7,
   "id": "389cca7e-bdee-4d23-bbd8-a5f1b30fc23f",
   "metadata": {},
   "outputs": [
    {
     "name": "stdin",
     "output_type": "stream",
     "text": [
      "Enter Your Favourite Fruit  kiwi\n"
     ]
    },
    {
     "name": "stdout",
     "output_type": "stream",
     "text": [
      "Kiwi is not on the list\n"
     ]
    }
   ],
   "source": [
    "# 3. Check for an Item in a List (Membership Test)\n",
    "# Ask the user to input their favorite fruit.\n",
    "# Check if that fruit is in the predefined list fruits = ['apple', 'banana', 'mango', 'grape']. \n",
    "# Print a message saying whether their fruit is on the list or not.\n",
    "fruit=[\"apple\",\"banana\",\"mango\",'grape']\n",
    "favourite=input(\"Enter Your Favourite Fruit \").strip().lower()\n",
    "if favourite in fruit:\n",
    "    print(f\"{favourite.capitalize()} is on the list\")\n",
    "else:\n",
    "    print(f\"{favourite.capitalize()} is not on the list\")\n",
    "\n"
   ]
  },
  {
   "cell_type": "code",
   "execution_count": 12,
   "id": "6740ec33-e7a6-4b5f-9db6-b10f80686a64",
   "metadata": {},
   "outputs": [
    {
     "name": "stdout",
     "output_type": "stream",
     "text": [
      "sum of positive numbers are 15\n"
     ]
    }
   ],
   "source": [
    "# 4. Conditional Sum of List Elements\n",
    "# Given a list values = [1, -2, 3, -4, 5, 6]\n",
    "# write a program that calculates the sum of only the positive numbers in the list.\n",
    "# Use a loop and an if statement\n",
    "\n",
    "values=[1,-2,3,-4,5,6]\n",
    "positive_sum=0\n",
    "for num in values:\n",
    "    if num>0:\n",
    "       positive_sum+=num\n",
    "print(\"sum of positive numbers are\", +positive_sum)\n"
   ]
  },
  {
   "cell_type": "code",
   "execution_count": 17,
   "id": "89fd94be-8c9c-430b-85b2-162c1e240cb8",
   "metadata": {},
   "outputs": [
    {
     "name": "stdout",
     "output_type": "stream",
     "text": [
      "330\n"
     ]
    }
   ],
   "source": [
    "# 5. Find Maximum with Condition\n",
    "# You have a list data = [120, 330, 40, 550, 60].\n",
    "# Find the largest number in the list that is less than 500.\n",
    "# Print the number. If no number is found, print \"No valid number found\".\n",
    "data=[120,330,40,550,60]\n",
    "valid_numbers=[num for num in data if num<500]\n",
    "if valid_numbers:\n",
    "        print(max(valid_numbers))\n",
    "else:\n",
    "        print(\"no valid number found\")\n"
   ]
  },
  {
   "cell_type": "code",
   "execution_count": 12,
   "id": "864645ae-1a27-4de5-af5a-2ea856bc1c6a",
   "metadata": {},
   "outputs": [
    {
     "name": "stdout",
     "output_type": "stream",
     "text": [
      "integer [12, 33, 100]\n",
      "string ['hello', 'world']\n"
     ]
    }
   ],
   "source": [
    "# 6. Categorize List Elements\n",
    "# Create a list mixed = [12, 'hello', 33, 'world', 7.5, 100].\n",
    "# Write a program that separates this list into two new lists: one for integers and one for strings.\n",
    "# Ignore any other data types.\n",
    "\n",
    "mixed=[12,'hello',33,'world',7.5,100]\n",
    "integers=[]\n",
    "strings=[]\n",
    "for item in mixed:\n",
    "    if isinstance(item,int):\n",
    "       integers.append(item)\n",
    "    elif isinstance(item,str):\n",
    "      strings.append(item)\n",
    "print(\"integer\",integers)\n",
    "print(\"string\",strings)\n",
    "\n",
    "\n"
   ]
  },
  {
   "cell_type": "code",
   "execution_count": 15,
   "id": "5b8a4472-4618-4980-b9f0-6c7d2bd9e7c2",
   "metadata": {},
   "outputs": [
    {
     "name": "stdin",
     "output_type": "stream",
     "text": [
      "enter index 3\n"
     ]
    },
    {
     "name": "stdout",
     "output_type": "stream",
     "text": [
      "valid index,even number\n"
     ]
    }
   ],
   "source": [
    "# 7. Nested If with List Index\n",
    "# Given a list my_list = [10, 20, 30, 40, 50] and an index provided by the user. \n",
    "# Check if the index is valid for the list. If it is, check if the element at that index is even.\n",
    "# Print \"Valid index, even number\", \"Valid index, odd number\", or \"Invalid index\" based on the checks.\n",
    "\n",
    "my_list=[10,20,30,40,50]\n",
    "index=int(input(\"enter index\"))\n",
    "try:\n",
    "    if 0<=index<len(my_list):\n",
    "      if(my_list[index]%2==0):\n",
    "          print(\"valid index,even number\")\n",
    "      else:\n",
    "          print(\"valid index,odd number\")\n",
    "    else:\n",
    "          print(\"invalid index\")\n",
    "\n",
    "except valuerror:\n",
    "      print(\"invalid index\")\n",
    "\n"
   ]
  },
  {
   "cell_type": "code",
   "execution_count": 27,
   "id": "336e1c2b-bcd6-46cb-afa4-6e8834af3236",
   "metadata": {},
   "outputs": [
    {
     "name": "stdout",
     "output_type": "stream",
     "text": [
      "valid_tempratures [25, 30, 28, 16, 99]\n"
     ]
    }
   ],
   "source": [
    "# 8. Remove Elements Meeting a Condition\n",
    "# You have a list temperatures = [25, 30, 105, 28, 16, -5, 99]. \n",
    "# This list has some faulty readings (any temperature below 0 or above 100 is faulty). \n",
    "# Create a new list that contains only the valid temperatures.\n",
    "\n",
    "temparatures=[25,30,105,28,16,-5,99]\n",
    "valid_temparatures=[temp for temp in temparatures if 0<=temp<=100]\n",
    "print(\"valid_tempratures\",valid_temparatures)\n",
    "\n",
    "       \n"
   ]
  },
  {
   "cell_type": "code",
   "execution_count": 36,
   "id": "9255230f-4c67-4f3d-b240-3d930f08b4d4",
   "metadata": {},
   "outputs": [
    {
     "name": "stdin",
     "output_type": "stream",
     "text": [
      "enter name bob\n"
     ]
    },
    {
     "name": "stdout",
     "output_type": "stream",
     "text": [
      "bob found at position1\n"
     ]
    }
   ],
   "source": [
    "# 9. Simple List Search\n",
    "# Create a list of names: names = ['Alice', 'Bob', 'Charlie', 'Diana']. \n",
    "# Ask the user for a name to search for. If you find the name, \n",
    "# print its position (index) in the list. If you don't find it, print \"Name not found\".\n",
    "\n",
    "names=[\"Alice\",'bob','charlie','Diana']\n",
    "search=input(\"enter name\").strip()\n",
    "\n",
    "if search in list:\n",
    "    print(f\"{search} found at position {names.index(search)}\")\n",
    "else:\n",
    "     print(\"name not found\")\n",
    "    \n"
   ]
  },
  {
   "cell_type": "code",
   "execution_count": 38,
   "id": "d922bdd5-e79c-4ceb-95c5-3e7bbcc9ad7d",
   "metadata": {},
   "outputs": [
    {
     "name": "stdout",
     "output_type": "stream",
     "text": [
      "valid_numbers [15, 36, 12, 18]\n"
     ]
    }
   ],
   "source": [
    "# 10. Combined Condition on Multiple List Properties\n",
    "# Given a list numbers = [15, 7, 22, 9, 36, 12, 18], \n",
    "# write a program that finds and prints all numbers in the list that are both greater than 10\n",
    "# and divisible by 3.\n",
    "\n",
    "numbers=[15,7,22,9,36,12,18]\n",
    "valid_numbers=[num for num in numbers if num>10 and num%3==0]\n",
    "print(\"valid_numbers\",valid_numbers)\n"
   ]
  },
  {
   "cell_type": "code",
   "execution_count": 23,
   "id": "64dc448e-14c6-4632-87d2-66b6944eabc7",
   "metadata": {},
   "outputs": [],
   "source": []
  },
  {
   "cell_type": "code",
   "execution_count": null,
   "id": "56733563-7c62-4bf4-b4d2-6424aab0084f",
   "metadata": {},
   "outputs": [],
   "source": []
  }
 ],
 "metadata": {
  "kernelspec": {
   "display_name": "Python 3 (ipykernel)",
   "language": "python",
   "name": "python3"
  },
  "language_info": {
   "codemirror_mode": {
    "name": "ipython",
    "version": 3
   },
   "file_extension": ".py",
   "mimetype": "text/x-python",
   "name": "python",
   "nbconvert_exporter": "python",
   "pygments_lexer": "ipython3",
   "version": "3.13.6"
  }
 },
 "nbformat": 4,
 "nbformat_minor": 5
}
